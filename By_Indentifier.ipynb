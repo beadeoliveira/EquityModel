{
 "cells": [
  {
   "cell_type": "markdown",
   "id": "c47df2f9",
   "metadata": {},
   "source": [
    "**DESCRIPTION:** This model will run a regression on all of the data by the identifier(s) specified by the user. The regression is completed using SKLearn which utilizes test and training data to fit a learned model to the data."
   ]
  },
  {
   "cell_type": "code",
   "execution_count": 1,
   "id": "2c7e8cc2",
   "metadata": {},
   "outputs": [],
   "source": [
    "import matplotlib\n",
    "matplotlib.use('TkAgg')\n",
    "import matplotlib.pyplot as plt\n",
    "import pandas as pd\n",
    "import numpy as np\n",
    "from sklearn.linear_model import LinearRegression\n",
    "from sklearn.metrics import r2_score\n",
    "from sklearn.model_selection import train_test_split\n",
    "from sklearn.model_selection import KFold\n",
    "from sklearn.model_selection import cross_val_score"
   ]
  },
  {
   "cell_type": "markdown",
   "id": "82bd618b",
   "metadata": {},
   "source": [
    "**Calculating the Model:** Creates a function which take a list of identifiers and creates a model for each."
   ]
  },
  {
   "cell_type": "code",
   "execution_count": 2,
   "id": "2b441eee",
   "metadata": {},
   "outputs": [],
   "source": [
    "def individual_idents(lst):\n",
    "\n",
    "    for iden in lst:\n",
    "\n",
    "        df = df2\n",
    "        df = df.loc[df['identifier'] == iden]\n",
    "\n",
    "        # Sets the index of the graph as the date so that the regression occurs\n",
    "        # over the dates\n",
    "        df.set_index(pd.DatetimeIndex(df['date']), inplace=True)\n",
    "\n",
    "        # Sets the  predictor values\n",
    "        predictors = ['market_cap',\t'sector', 'index_membership', 'factor_1',\n",
    "                  'factor_2', 'factor_3', 'factor_4', 'factor_5', 'factor_6',\n",
    "                  'factor_7', 'factor_8', 'factor_9', 'factor_10']\n",
    "\n",
    "        # Uses the train_test_split to randomly select 30% of the data as\n",
    "        # testing data and saving the rest for the creation/training of the\n",
    "        # model\n",
    "        train, test = train_test_split(df, test_size=0.3)\n",
    "\n",
    "        # Defines the model as a Linear Regression\n",
    "        model = LinearRegression()\n",
    "\n",
    "        # Fits the model using the predictors above and defined target\n",
    "        # training data\n",
    "        model.fit(train[predictors], train[\"target\"])\n",
    "\n",
    "        # Creates the predictors using the model.predict\n",
    "        preds = model.predict(test[predictors])\n",
    "        preds = pd.Series(preds, index=test.index)\n",
    "\n",
    "        # Calculates the r^2 score based on the test values and the predicted\n",
    "        # values\n",
    "        r = r2_score(test[\"target\"], preds)\n",
    "        combined = pd.concat({\"target\": test[\"target\"],\"Predictions\": preds}, axis=1)\n",
    "        combined.plot()\n",
    "        plt.title(iden + \" with r^2: \" + str(r))\n",
    "\n",
    "        print(\"r2 of \" + iden + \" =\" + str(r))\n",
    "\n",
    "        y = df['target']\n",
    "        X = df[['market_cap', 'sector', 'index_membership', 'factor_1',\n",
    "                'factor_2', 'factor_3', 'factor_4', 'factor_5', 'factor_6',\n",
    "                'factor_7', 'factor_8', 'factor_9', 'factor_10']]\n",
    "\n",
    "        cv = KFold(n_splits=10, random_state=1, shuffle=True)\n",
    "\n",
    "        modl = LinearRegression()\n",
    "\n",
    "        scores = cross_val_score(modl, X, y,\n",
    "                                 scoring='neg_mean_absolute_error',\n",
    "                                 cv=cv, n_jobs=-1)\n",
    "\n",
    "        # the lower the RMSE the better\n",
    "        print('root mean squared error (RMSE) = ' + str(\n",
    "            np.sqrt(np.mean(np.absolute(\n",
    "                scores)))))\n",
    "\n",
    "    plt.show()"
   ]
  },
  {
   "cell_type": "markdown",
   "id": "d0e1c5e3",
   "metadata": {},
   "source": [
    "**Note on Path to File:** Below I have specified the path to the given CSV containing the data. In this instance, I have used the path to the file on my computer, as this container runs off of my computer. You do not need to change the path for it to work on this notebook, but if you would like to download the code, you may."
   ]
  },
  {
   "cell_type": "code",
   "execution_count": 6,
   "id": "6215a95f",
   "metadata": {},
   "outputs": [
    {
     "name": "stdout",
     "output_type": "stream",
     "text": [
      "What identifier would you like to model? \n",
      "SMC6PH10CCF3\n",
      "Would you like to add another? - answer 'Y' for yes and 'N' for no \n",
      "N\n",
      "r2 of SMC6PH10CCF3 =-0.6770161022675703\n",
      "root mean squared error (RMSE) = 0.04892843077944459\n"
     ]
    }
   ],
   "source": [
    "if __name__ == '__main__':\n",
    "\n",
    "    path_to_file = \"/Users/beadeoliveira/Desktop/data.csv\"\n",
    "\n",
    "    # Reads the information contained in the CSV\n",
    "    df2 = pd.read_csv(path_to_file)\n",
    "\n",
    "    # Prepares a list to hold the identifiers\n",
    "    idents = []\n",
    "    \n",
    "    identifier_set = set(df2[\"identifier\"].values.tolist())\n",
    "\n",
    "    # While loop that will continue to ask the user for input until they answer \n",
    "    # \"N\". Each identifier that is added is checked to determine if it is valid.\n",
    "    answer = 'Y'\n",
    "    while (answer == 'Y'):\n",
    "        n = input(\"What identifier would you like to model? \\n\")\n",
    "        if(n in identifier_set):\n",
    "            idents.append(n)\n",
    "            answer = input(\n",
    "            \"Would you like to add another? - answer 'Y' for yes and \"\n",
    "            \"'N' for no \\n\")\n",
    "        else:\n",
    "            answer = input(\"Your input is not an identifier. Would you like to try again? - answer 'Y' for yes and \"\n",
    "            \"'N' for no \\n\")\n",
    "\n",
    "\n",
    "    # Runs the model on the given identifiers\n",
    "    individual_idents(idents)"
   ]
  },
  {
   "cell_type": "code",
   "execution_count": null,
   "id": "5b067e93",
   "metadata": {},
   "outputs": [],
   "source": []
  }
 ],
 "metadata": {
  "kernelspec": {
   "display_name": "Python 3 (ipykernel)",
   "language": "python",
   "name": "python3"
  },
  "language_info": {
   "codemirror_mode": {
    "name": "ipython",
    "version": 3
   },
   "file_extension": ".py",
   "mimetype": "text/x-python",
   "name": "python",
   "nbconvert_exporter": "python",
   "pygments_lexer": "ipython3",
   "version": "3.9.12"
  }
 },
 "nbformat": 4,
 "nbformat_minor": 5
}
