{
 "cells": [
  {
   "cell_type": "markdown",
   "id": "4e12e69f",
   "metadata": {},
   "source": [
    "# Model Prediction by Identifier\n",
    "This notebook will run a regression on all of the data by the identifier(s) specified by the user. The regression is completed using SKLearn which utilizes test and training data to fit a learned model to the data. The model will then be used to complete a factor selection and forward/backward factor selection which can be used to fine-tune the model.\n",
    "\n",
    "**How to Run This Code:** Run each segment of code and markdown in order using the 'Run' button above. Once you have run the last segment the code will execute and results will be outputted. It may take a few moments for the code to output results so please be patient.\n",
    "\n",
    "### Import Libraries"
   ]
  },
  {
   "cell_type": "code",
   "execution_count": null,
   "id": "6fbfb2a3",
   "metadata": {},
   "outputs": [],
   "source": [
    "import matplotlib\n",
    "import matplotlib.pyplot as plt\n",
    "import pandas as pd\n",
    "import numpy as np\n",
    "from sklearn.linear_model import LinearRegression\n",
    "from sklearn.metrics import r2_score\n",
    "from sklearn.model_selection import train_test_split\n",
    "from sklearn.model_selection import KFold, cross_val_score\n",
    "from time import time\n",
    "from sklearn.feature_selection import SequentialFeatureSelector\n",
    "import warnings\n",
    "warnings.filterwarnings('ignore')"
   ]
  },
  {
   "cell_type": "markdown",
   "id": "076b0011",
   "metadata": {},
   "source": [
    "## Functions to be called later\n",
    "\n",
    "The model is built and run in the section **\"Calculating the Model\"**."
   ]
  },
  {
   "cell_type": "markdown",
   "id": "6203f5f9",
   "metadata": {},
   "source": [
    "**Calculating Model Validation:** This function calculates the r^2 anf RMSE of the model by utilizing the r2_score function with the test target data and predictions from the model, as well as the KFold function."
   ]
  },
  {
   "cell_type": "code",
   "execution_count": null,
   "id": "d679d624",
   "metadata": {},
   "outputs": [],
   "source": [
    "def validations(preds, predictor_list, test, iden, train, model, X, y):\n",
    "    \n",
    "    # Calculates the r^2 score based on the test values and the predicted values\n",
    "    r = r2_score(test[\"target\"], preds)\n",
    "    \n",
    "    print(\"r2 of \" + iden + \" = \" + str(r) + \"\\n\")\n",
    "    \n",
    "    # Conducts the K_Fold test\n",
    "    cv = KFold(n_splits=10, random_state=100, shuffle=True)\n",
    "\n",
    "    scores = cross_val_score(model, train[predictor_list], train[\"target\"],\n",
    "                             scoring='neg_mean_absolute_error',\n",
    "                             cv=cv, n_jobs=-1)\n",
    "    \n",
    "    print(\"root mean squared error (RMSE) = \" + str(np.sqrt(np.mean(np.absolute(\n",
    "        scores)))) + \"\\n\")\n",
    "    \n",
    "    return r"
   ]
  },
  {
   "cell_type": "markdown",
   "id": "098b802c",
   "metadata": {},
   "source": [
    "**Selecting features with Sequential Feature Selection:** SFS is a greedy procedure where, at each iteration, we choose the best new feature to add to our selected features based a cross-validation score (starts with 0 features and choose the best single feature with the highest score). The procedure is repeated until we reach the desired number of selected features."
   ]
  },
  {
   "cell_type": "code",
   "execution_count": null,
   "id": "17de53f4",
   "metadata": {},
   "outputs": [],
   "source": [
    "# Simple helper function to go from list of True and False to the final selected values\n",
    "\n",
    "def selecting(lst, features):\n",
    "    selected = []\n",
    "    for i in range(0,13):\n",
    "        if lst[i] == True:\n",
    "            selected.append(features[i])\n",
    "    return selected"
   ]
  },
  {
   "cell_type": "code",
   "execution_count": null,
   "id": "881d0224",
   "metadata": {},
   "outputs": [],
   "source": [
    "def seq_selection(X, y, features, model, iden):\n",
    "\n",
    "    # Forward Selection\n",
    "    \n",
    "    # starts the time\n",
    "    tic_fwd = time()\n",
    "    # runs the SequentialFeatureSelector on our ridge values previosuly calculated\n",
    "    # and specifies that this is to be done in the forward direction\n",
    "    sfs_forward = SequentialFeatureSelector(\n",
    "        model, direction=\"forward\"\n",
    "    ).fit(X, y)\n",
    "    # stops the time\n",
    "    toc_fwd = time()\n",
    "\n",
    "    #prints the results\n",
    "    print(\n",
    "        \"Features of\" + iden + \" selected by forward sequential selection: \", selecting(sfs_forward.get_support(), features)\n",
    "    )\n",
    "    print(f\"Done in {toc_fwd - tic_fwd:.3f}s\")\n",
    "    \n",
    "    return selecting(sfs_forward.get_support(), features)"
   ]
  },
  {
   "cell_type": "markdown",
   "id": "90c71111",
   "metadata": {},
   "source": [
    "## Calculating the Model\n",
    "\n",
    "**Set Path and Read Data:** Below I have specified the path to the given CSV containing the data. You do not need to change the path for it to work on this notebook, but if you would like to download the code, you may."
   ]
  },
  {
   "cell_type": "code",
   "execution_count": null,
   "id": "ff1164c3",
   "metadata": {},
   "outputs": [],
   "source": [
    "path_to_file = \"data/data.csv\"\n",
    "# Reads the information contained in the CSV\n",
    "og_df = pd.read_csv(path_to_file)"
   ]
  },
  {
   "cell_type": "markdown",
   "id": "083719fa",
   "metadata": {},
   "source": [
    "**List all Unique Identifiers:** Lists all of the identifiers in the model which can be used to calculate the model"
   ]
  },
  {
   "cell_type": "code",
   "execution_count": null,
   "id": "19368067",
   "metadata": {},
   "outputs": [],
   "source": [
    "unique_identifiers = og_df['identifier'].unique()\n",
    "unique_identifiers"
   ]
  },
  {
   "cell_type": "markdown",
   "id": "28c6b56b",
   "metadata": {},
   "source": [
    "#### Please specify the identifier you would like to examine in the cell below\n",
    "#### NOTE: User input required"
   ]
  },
  {
   "cell_type": "code",
   "execution_count": null,
   "id": "ab4b9f1b",
   "metadata": {},
   "outputs": [],
   "source": [
    "# list your identifiers here, i.e. iden = 'KM943MN5D7E3'\n",
    "iden = 'KM943MN5D7E3'"
   ]
  },
  {
   "cell_type": "markdown",
   "id": "e65117aa",
   "metadata": {},
   "source": [
    "**Get Predictors:** List the predictors that will be used in the model by filtering column names"
   ]
  },
  {
   "cell_type": "code",
   "execution_count": null,
   "id": "d2c58f5e",
   "metadata": {},
   "outputs": [],
   "source": [
    "predictor_list = og_df.columns[2:-1]\n",
    "predictor_list"
   ]
  },
  {
   "cell_type": "markdown",
   "id": "37529f56",
   "metadata": {
    "scrolled": false
   },
   "source": [
    "**1) Arranging the dataset to factor the dates as the index and specify for the chosen identifier:** This will result in the index of the data being set as the dates. It will also filter the data by the chosen identifier"
   ]
  },
  {
   "cell_type": "code",
   "execution_count": null,
   "id": "556b862c",
   "metadata": {},
   "outputs": [],
   "source": [
    "ds = og_df.set_index('date')\n",
    "ds = ds.loc[ds['identifier'] == iden]\n",
    "ds.head(5)"
   ]
  },
  {
   "cell_type": "markdown",
   "id": "258e50e3",
   "metadata": {
    "scrolled": false
   },
   "source": [
    "**2) Partitioning the training and testing data:** 30% of the data is being selected as test data, while 70% is being used as training data. This selection is done at random, which may result in varied R^2 scores per run of the data. This is due to the fact that there is relatively little data per identifier."
   ]
  },
  {
   "cell_type": "code",
   "execution_count": null,
   "id": "5b0fae71",
   "metadata": {},
   "outputs": [],
   "source": [
    "train_data, test_data = train_test_split(ds, test_size=0.3)"
   ]
  },
  {
   "cell_type": "markdown",
   "id": "2236d9bf",
   "metadata": {
    "scrolled": false
   },
   "source": [
    "**3) Running Linear Model**: A linear regression on the training data is run using SkLearn LinearRegression()."
   ]
  },
  {
   "cell_type": "code",
   "execution_count": null,
   "id": "9f21014c",
   "metadata": {},
   "outputs": [],
   "source": [
    "X, y = train_data[predictor_list], train_data[\"target\"]\n",
    "\n",
    "# Defines the model as a Linear Regression\n",
    "model = LinearRegression()\n",
    "\n",
    "# Fits the model using the predictors above and defined target training data\n",
    "model.fit(X,y);"
   ]
  },
  {
   "cell_type": "markdown",
   "id": "be568821",
   "metadata": {},
   "source": [
    "**4) Making predictions with all features and graphing the data vs predicted:** Predictions for the data are made using our training data and graphed against the test data to demonstrate accuracy."
   ]
  },
  {
   "cell_type": "code",
   "execution_count": null,
   "id": "722b6fca",
   "metadata": {},
   "outputs": [],
   "source": [
    "# Creates the predictors using the model.predict\n",
    "preds = model.predict(test_data[predictor_list])\n",
    "\n",
    "combined = np.vstack((test_data['target'], preds))\n",
    "\n",
    "plt.plot(combined.T)\n",
    "plt.grid()\n",
    "plt.legend((\"Target\",\"Predictions\"))\n",
    "plt.title(iden);"
   ]
  },
  {
   "cell_type": "markdown",
   "id": "ca21ab04",
   "metadata": {},
   "source": [
    "**5) Calculating the R^2 and RMSE for the full model:** R^2 for the model is calculated using the function defined in the functions section of the code."
   ]
  },
  {
   "cell_type": "code",
   "execution_count": null,
   "id": "c04f7642",
   "metadata": {},
   "outputs": [],
   "source": [
    "r_2 = validations(preds, predictor_list, test_data, iden, train_data, LinearRegression(), X, y)"
   ]
  },
  {
   "cell_type": "markdown",
   "id": "9a4cd29f",
   "metadata": {},
   "source": [
    "**6) Backward Selection:** Backward selection is conducted to determine the best predictors for the data which will be used to modify our model."
   ]
  },
  {
   "cell_type": "code",
   "execution_count": null,
   "id": "2eaaa114",
   "metadata": {},
   "outputs": [],
   "source": [
    "new_predictors = seq_selection(X, y, predictor_list, model, iden)"
   ]
  },
  {
   "cell_type": "markdown",
   "id": "902af387",
   "metadata": {
    "scrolled": false
   },
   "source": [
    "**7) Optimizing feature selection using backward selection:** Using our new predictors from the backward selection, we run a linear regression using our training and testing data to formulate new predictions and a revised R^2 score."
   ]
  },
  {
   "cell_type": "code",
   "execution_count": null,
   "id": "560ff2eb",
   "metadata": {},
   "outputs": [],
   "source": [
    "X2, y2 = train_data[new_predictors], train_data[\"target\"]\n",
    "\n",
    "# Defines the model as a Linear Regression\n",
    "model = LinearRegression()\n",
    "\n",
    "# Fits the model using the predictors above and defined target training data\n",
    "model.fit(X2,y2)\n",
    "\n",
    "new_preds = model.predict(test_data[new_predictors])\n",
    "\n",
    "new_r_2 = validations(new_preds, new_predictors, test_data, iden, train_data, LinearRegression(), X2, y2)"
   ]
  },
  {
   "cell_type": "markdown",
   "id": "e5c8bdd3",
   "metadata": {},
   "source": [
    "**8) Graphing all of the models vs the test target data:** The new predictions are graphed against our previous predictions and the test target data."
   ]
  },
  {
   "cell_type": "code",
   "execution_count": null,
   "id": "9a7c096c",
   "metadata": {},
   "outputs": [],
   "source": [
    "combined = np.vstack((test_data['target'], new_preds, preds))\n",
    "\n",
    "plt.plot(combined.T)\n",
    "plt.grid()\n",
    "plt.legend((\"Target\",\"Reduced Model Predictions\",\"Full Model Predictions\"))\n",
    "plt.title(iden);"
   ]
  }
 ],
 "metadata": {
  "kernelspec": {
   "display_name": "Python 3 (ipykernel)",
   "language": "python",
   "name": "python3"
  },
  "language_info": {
   "codemirror_mode": {
    "name": "ipython",
    "version": 3
   },
   "file_extension": ".py",
   "mimetype": "text/x-python",
   "name": "python",
   "nbconvert_exporter": "python",
   "pygments_lexer": "ipython3",
   "version": "3.9.12"
  }
 },
 "nbformat": 4,
 "nbformat_minor": 5
}
