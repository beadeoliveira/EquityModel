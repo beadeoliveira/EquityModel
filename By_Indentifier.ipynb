{
 "cells": [
  {
   "cell_type": "markdown",
   "source": [
    "# Model Prediction by Identifier\n",
    "This notebook will run a regression on all of the data by the identifier(s) specified by the user. The regression is completed using SKLearn which utilizes test and training data to fit a learned model to the data. The model will then be used to complete a factor selection and forward/backward factor selection which can be used to fine-tune the model.\n",
    "\n",
    "**How to Run This Code:** Run each segment of code and markdown in order using the 'Run' button above. Once you have run the last segment the code will execute and results will be outputted. It may take a few moments for the code to output results so please be patient.\n",
    "\n",
    "### Import Libraries"
   ],
   "metadata": {}
  },
  {
   "cell_type": "code",
   "execution_count": null,
   "source": [
    "import matplotlib\n",
    "import matplotlib.pyplot as plt\n",
    "import pandas as pd\n",
    "import numpy as np\n",
    "from sklearn.linear_model import LinearRegression\n",
    "from sklearn.metrics import r2_score\n",
    "from sklearn.model_selection import train_test_split\n",
    "from sklearn.model_selection import KFold, cross_val_score\n",
    "from time import time\n",
    "from sklearn.feature_selection import SequentialFeatureSelector\n",
    "import warnings\n",
    "warnings.filterwarnings('ignore')"
   ],
   "outputs": [],
   "metadata": {}
  },
  {
   "cell_type": "markdown",
   "source": [
    "## Functions to be called later\n",
    "\n",
    "The model is built and run in the section **\"Calculating the Model\"**."
   ],
   "metadata": {}
  },
  {
   "cell_type": "markdown",
   "source": [
    "**Calculating r^2:** This function calculates the r^2 of the model by utilizing the r2_score function with the test target data and predictions from the model."
   ],
   "metadata": {}
  },
  {
   "cell_type": "code",
   "execution_count": null,
   "source": [
    "def r2(preds, test, iden):\n",
    "    \n",
    "    # Calculates the r^2 score based on the test values and the predicted values\n",
    "    r = r2_score(test[\"target\"], preds)\n",
    "    \n",
    "    print(\"r2 of \" + iden + \" = \" + str(r) + \"\\n\")\n",
    "    \n",
    "    return r"
   ],
   "outputs": [],
   "metadata": {}
  },
  {
   "cell_type": "markdown",
   "source": [
    "**K Fold Test:** Conducts a k_fold test on the data using the predictors (X) and response variables (y) using the KFold function. It then Calculates the cross validation score which is later used to calculate the Root Mean Squared Error. The RMSE is useful as it provides information regarding the accuracy of our model - i.e. the lower the RMSE the better"
   ],
   "metadata": {}
  },
  {
   "cell_type": "code",
   "execution_count": null,
   "source": [
    "def k_fold_test(predictor_list, train, model, X, y):\n",
    "\n",
    "    # Conducts the K_Fold test\n",
    "    cv = KFold(n_splits=10, random_state=100, shuffle=True)\n",
    "\n",
    "    scores = cross_val_score(model, train[predictor_list], train[\"target\"],\n",
    "                             scoring='neg_mean_absolute_error',\n",
    "                             cv=cv, n_jobs=-1)\n",
    "    \n",
    "    print(\"root mean squared error (RMSE) = \" + str(np.sqrt(np.mean(np.absolute(\n",
    "        scores)))) + \"\\n\")"
   ],
   "outputs": [],
   "metadata": {}
  },
  {
   "cell_type": "markdown",
   "source": [
    "**Selecting features with Sequential Feature Selection:** SFS is a greedy procedure where, at each iteration, we choose the best new feature to add to our selected features based a cross-validation score (starts with 0 features and choose the best single feature with the highest score). The procedure is repeated until we reach the desired number of selected features."
   ],
   "metadata": {}
  },
  {
   "cell_type": "code",
   "execution_count": null,
   "source": [
    "def seq_selection(X, y, features, model, iden):\n",
    "\n",
    "    # Forward Selection\n",
    "    \n",
    "    # starts the time\n",
    "    tic_fwd = time()\n",
    "    # runs the SequentialFeatureSelector on our ridge values previosuly calculated\n",
    "    # and specifies that this is to be done in the forward direction\n",
    "    sfs_forward = SequentialFeatureSelector(\n",
    "        model, scoring='r2', direction=\"forward\"\n",
    "    ).fit(X, y)\n",
    "    # stops the time\n",
    "    toc_fwd = time()\n",
    "\n",
    "    #prints the results\n",
    "    print(\n",
    "        \"Features of\" + iden + \" selected by forward sequential selection: \", selecting(sfs_forward.get_support(), features)\n",
    "    )\n",
    "    print(f\"Done in {toc_fwd - tic_fwd:.3f}s\")\n",
    "    \n",
    "    return selecting(sfs_forward.get_support(), features)"
   ],
   "outputs": [],
   "metadata": {}
  },
  {
   "cell_type": "markdown",
   "source": [
    "## Calculating the Model\n",
    "\n",
    "**Set Path and Read Data:** Below I have specified the path to the given CSV containing the data. You do not need to change the path for it to work on this notebook, but if you would like to download the code, you may."
   ],
   "metadata": {}
  },
  {
   "cell_type": "code",
   "execution_count": null,
   "source": [
    "path_to_file = \"data/data.csv\"\n",
    "# Reads the information contained in the CSV\n",
    "og_df = pd.read_csv(path_to_file)"
   ],
   "outputs": [],
   "metadata": {}
  },
  {
   "cell_type": "markdown",
   "source": [
    "**List all Unique Identifiers:** Lists all of the identifiers in the model which can be used to calculate the model"
   ],
   "metadata": {}
  },
  {
   "cell_type": "code",
   "execution_count": null,
   "source": [
    "unique_identifiers = og_df['identifier'].unique()\n",
    "unique_identifiers"
   ],
   "outputs": [],
   "metadata": {}
  },
  {
   "cell_type": "markdown",
   "source": [
    "#### Please specify the identifier you would like to examine in the cell below\n",
    "#### NOTE: User input required"
   ],
   "metadata": {}
  },
  {
   "cell_type": "code",
   "execution_count": null,
   "source": [
    "# list your identifiers here, i.e. iden = 'KM943MN5D7E3'\n",
    "iden = 'KM943MN5D7E3'"
   ],
   "outputs": [],
   "metadata": {}
  },
  {
   "cell_type": "markdown",
   "source": [
    "**Get Predictors:** List the predictors that will be used in the model by filtering column names"
   ],
   "metadata": {}
  },
  {
   "cell_type": "code",
   "execution_count": null,
   "source": [
    "predictor_list = og_df.columns[2:-1]\n",
    "predictor_list"
   ],
   "outputs": [],
   "metadata": {}
  },
  {
   "cell_type": "markdown",
   "source": [
    "**1) Arranging the dataset to factor the dates as the index and specify for the chosen identifier:** This will result in the index of the data being set as the dates. It will also filter the data by the chosen identifier"
   ],
   "metadata": {
    "scrolled": false
   }
  },
  {
   "cell_type": "code",
   "execution_count": null,
   "source": [
    "ds = og_df.set_index('date')\n",
    "ds = ds.loc[ds['identifier'] == iden]\n",
    "ds.head(5)"
   ],
   "outputs": [],
   "metadata": {}
  },
  {
   "cell_type": "markdown",
   "source": [
    "**2) Partitioning the training and testing data:** 30% of the data is being selected as test data, while 70% is being used as training data. This selection is done at random."
   ],
   "metadata": {
    "scrolled": false
   }
  },
  {
   "cell_type": "code",
   "execution_count": null,
   "source": [
    "train_data, test_data = train_test_split(ds, test_size=0.3)"
   ],
   "outputs": [],
   "metadata": {}
  },
  {
   "cell_type": "markdown",
   "source": [
    "**3) Running Linear Model**: A linear regression on the training data is run using SkLearn LinearRegression()."
   ],
   "metadata": {
    "scrolled": false
   }
  },
  {
   "cell_type": "code",
   "execution_count": null,
   "source": [
    "X, y = train_data[predictor_list], train_data[\"target\"]\n",
    "\n",
    "# Defines the model as a Linear Regression\n",
    "model = LinearRegression()\n",
    "\n",
    "# Fits the model using the predictors above and defined target training data\n",
    "model.fit(X,y);"
   ],
   "outputs": [],
   "metadata": {}
  },
  {
   "cell_type": "markdown",
   "source": [
    "**4) Making predictions with all features and graphing the data vs predicted:** Predictions for the data are made using our training data and graphed against the test data to demonstrate accuracy."
   ],
   "metadata": {}
  },
  {
   "cell_type": "code",
   "execution_count": null,
   "source": [
    "# Creates the predictors using the model.predict\n",
    "preds = model.predict(test_data[predictor_list])\n",
    "\n",
    "combined = np.vstack((test_data['target'], preds))\n",
    "\n",
    "plt.plot(combined.T)\n",
    "plt.grid()\n",
    "plt.legend((\"Target\",\"Predictions\"))\n",
    "plt.title(iden);"
   ],
   "outputs": [],
   "metadata": {}
  },
  {
   "cell_type": "markdown",
   "source": [
    "**5) Calculating the R^2 for the full model:** R^2 for the model is calculated using the function defined in the functions section of the code."
   ],
   "metadata": {
    "scrolled": false
   }
  },
  {
   "cell_type": "code",
   "execution_count": null,
   "source": [
    "r_2 = r2(preds, test_data, iden)"
   ],
   "outputs": [],
   "metadata": {}
  },
  {
   "cell_type": "markdown",
   "source": [
    "**6) Running the K Fold test for RMSE Result:** KFold is run to calculate the RMSE. The lower the RMSE the better."
   ],
   "metadata": {
    "scrolled": false
   }
  },
  {
   "cell_type": "code",
   "execution_count": null,
   "source": [
    "k_fold_test(predictor_list, train_data, LinearRegression(), X, y)"
   ],
   "outputs": [],
   "metadata": {}
  },
  {
   "cell_type": "markdown",
   "source": [
    "**7) Backward Selection:** Backward selection is conducted to determine the best predictors for the data which will be used to modify our model."
   ],
   "metadata": {}
  },
  {
   "cell_type": "code",
   "execution_count": null,
   "source": [
    "new_predictors = seq_selection(X, y, predictor_list, model, iden)"
   ],
   "outputs": [],
   "metadata": {}
  },
  {
   "cell_type": "markdown",
   "source": [
    "**7) Optimizing feature selection using backward selection:** Using our new predictors from the backward selection, we run a linear regression using our training and testing data to formulate new predictions and a revised R^2 score."
   ],
   "metadata": {
    "scrolled": false
   }
  },
  {
   "cell_type": "code",
   "execution_count": null,
   "source": [
    "new_preds = linear_model(train_data, test_data, new_predictors)\n",
    "\n",
    "new_r_2 = r2(new_preds, test_data, iden)"
   ],
   "outputs": [],
   "metadata": {}
  },
  {
   "cell_type": "markdown",
   "source": [
    "**8) Graphing all of the models vs the test target data:** The new predictions are graphed against our previous predictions and the test target data."
   ],
   "metadata": {}
  },
  {
   "cell_type": "code",
   "execution_count": null,
   "source": [
    "combined = np.vstack((test_data['target'], new_preds, preds))\n",
    "\n",
    "plt.plot(combined.T)\n",
    "plt.grid()\n",
    "plt.legend((\"Target\",\"Reduced Predictions\",\"Full Predictions\"))\n",
    "plt.title(iden);"
   ],
   "outputs": [],
   "metadata": {}
  },
  {
   "cell_type": "code",
   "execution_count": null,
   "source": [],
   "outputs": [],
   "metadata": {}
  }
 ],
 "metadata": {
  "kernelspec": {
   "display_name": "Python 3 (ipykernel)",
   "language": "python",
   "name": "python3"
  },
  "language_info": {
   "codemirror_mode": {
    "name": "ipython",
    "version": 3
   },
   "file_extension": ".py",
   "mimetype": "text/x-python",
   "name": "python",
   "nbconvert_exporter": "python",
   "pygments_lexer": "ipython3",
   "version": "3.9.12"
  }
 },
 "nbformat": 4,
 "nbformat_minor": 5
}