{
 "cells": [
  {
   "cell_type": "markdown",
   "id": "f51d2898",
   "metadata": {},
   "source": [
    "# Full Model Prediction \n",
    "This model will run a regression on all of the data over the time period given, treating identifier, market cap, the factors, etc as independent variables. \n",
    "The regression is completed using SKLearn which utilizes utilizes test and training data to fit a learned model to the data. The model will then be used to complete a factor selection and forward/backward factor selection which can be used to fine-tune the model.\n",
    "\n",
    "**How to Run This Code:** Run each segment of code and markdown in order using the 'Run' button above. Once you have run the last segment the code will execute and results will be outputted. It may take a few moments for the code to output results so please be patient.\n",
    "\n",
    "### Import Libraries"
   ]
  },
  {
   "cell_type": "code",
   "execution_count": null,
   "id": "f7532985",
   "metadata": {},
   "outputs": [],
   "source": [
    "import matplotlib\n",
    "import matplotlib.pyplot as plt\n",
    "import pandas as pd\n",
    "import numpy as np\n",
    "from sklearn.linear_model import LinearRegression\n",
    "from sklearn.metrics import r2_score\n",
    "from sklearn.model_selection import train_test_split\n",
    "from sklearn.model_selection import KFold\n",
    "from time import time\n",
    "from sklearn.feature_selection import SequentialFeatureSelector\n",
    "import warnings\n",
    "warnings.filterwarnings('ignore')"
   ]
  },
  {
   "cell_type": "markdown",
   "id": "2e317a3f",
   "metadata": {},
   "source": [
    "## Functions to be called later\n",
    "\n",
    "The model is built and run in the section **\"Calculating the Model\"**."
   ]
  },
  {
   "cell_type": "markdown",
   "id": "69af88f2",
   "metadata": {},
   "source": [
    "**Calculating r^2:** This function calculates the r^2 of the model by utilizing the r2_score function with the test target data and predictions from the model."
   ]
  },
  {
   "cell_type": "code",
   "execution_count": null,
   "id": "c931d41d",
   "metadata": {},
   "outputs": [],
   "source": [
    "def r2(preds, test):\n",
    "    \n",
    "    # Calculates the r^2 score based on the test values and the predicted values\n",
    "    r = r2_score(test[\"target\"], preds)\n",
    "    \n",
    "    print(\"r^2 is = \" + str(r) + \"\\n\")\n",
    "    \n",
    "    return r"
   ]
  },
  {
   "cell_type": "markdown",
   "id": "1a90ddf0",
   "metadata": {},
   "source": [
    "**K Fold Test:** Conducts a k_fold test on the data using the predictors (X) and response variables (y) using the KFold function. It then Calculates the cross validation score which is later used to calculate the Root Mean Squared Error. The RMSE is useful as it provides information regarding the accuracy of our model - i.e. the lower the RMSE the better"
   ]
  },
  {
   "cell_type": "code",
   "execution_count": null,
   "id": "2980bade",
   "metadata": {},
   "outputs": [],
   "source": [
    "def k_fold_test(predictor_list, train, model, X, y):\n",
    "\n",
    "    # Conducts the K_Fold test\n",
    "    cv = KFold(n_splits=10, random_state=100, shuffle=True)\n",
    "\n",
    "    scores = cross_val_score(model, train[predictor_list], train[\"target\"],\n",
    "                             scoring='neg_mean_absolute_error',\n",
    "                             cv=cv, n_jobs=-1)\n",
    "    \n",
    "    print(\"root mean squared error (RMSE) = \" + str(np.sqrt(np.mean(np.absolute(\n",
    "        scores)))) + \"\\n\")"
   ]
  },
  {
   "cell_type": "markdown",
   "id": "0f287254",
   "metadata": {},
   "source": [
    "**Selecting features with Sequential Feature Selection:** SFS is a greedy procedure where, at each iteration, we choose the best new feature to add to our selected features based a cross-validation score (starts with 0 features and choose the best single feature with the highest score. The procedure is repeated until we reach the desired number of selected features) Our function below does this in forward SFS."
   ]
  },
  {
   "cell_type": "code",
   "execution_count": null,
   "id": "b8dd7782",
   "metadata": {},
   "outputs": [],
   "source": [
    "def seq_selection(X, y, features, ridge):\n",
    "\n",
    "    # Forward Selection\n",
    "    \n",
    "    # starts the time\n",
    "    tic_fwd = time()\n",
    "    # runs the SequentialFeatureSelector on our ridge values previosuly calculated\n",
    "    # and specifies that this is to be done in the forward direction\n",
    "    sfs_forward = SequentialFeatureSelector(\n",
    "        ridge, scoring='r2', direction=\"forward\"\n",
    "    ).fit(X, y)\n",
    "    # stops the time\n",
    "    toc_fwd = time()\n",
    "\n",
    "\n",
    "    #prints the results\n",
    "    print(\n",
    "        \"Features selected by forward sequential selection: \", selecting(sfs_forward.get_support(), features)\n",
    "    )\n",
    "    print(f\"Done in {toc_fwd - tic_fwd:.3f}s\")\n",
    "    \n",
    "    return selecting(sfs_forward.get_support(), features)\n"
   ]
  },
  {
   "cell_type": "markdown",
   "id": "3a299e58",
   "metadata": {},
   "source": [
    "## Calculating the Model\n",
    "\n",
    "**Set Path and Read Data:** Below I have specified the path to the given CSV containing the data. You do not need to change the path for it to work on this notebook, but if you would like to download the code, you may."
   ]
  },
  {
   "cell_type": "code",
   "execution_count": null,
   "id": "16814bc0",
   "metadata": {},
   "outputs": [],
   "source": [
    "path_to_file = \"data/data.csv\"\n",
    "# Reads the information contained in the CSV\n",
    "ds = pd.read_csv(path_to_file)"
   ]
  },
  {
   "cell_type": "markdown",
   "id": "c54eb8a1",
   "metadata": {},
   "source": [
    "**Turning the Identifiers into Dummy Variables:** This will assist in preventing a collinearity between the identifiers when the regression is run."
   ]
  },
  {
   "cell_type": "code",
   "execution_count": null,
   "id": "c089a2f4",
   "metadata": {},
   "outputs": [],
   "source": [
    "ds = pd.get_dummies(ds,prefix='Identifier ', prefix_sep='=', columns=[\n",
    "    'identifier'])"
   ]
  },
  {
   "cell_type": "markdown",
   "id": "7c8d13bc",
   "metadata": {},
   "source": [
    "**Get Predictors:** List the predictors that will be used in the model by filtering column names"
   ]
  },
  {
   "cell_type": "code",
   "execution_count": null,
   "id": "c7768c73",
   "metadata": {
    "scrolled": true
   },
   "outputs": [],
   "source": [
    "df = ds.drop(['target'], axis = 1)\n",
    "predictor_list = df.columns[1:]\n",
    "predictor_list"
   ]
  },
  {
   "cell_type": "markdown",
   "id": "da985abf",
   "metadata": {},
   "source": [
    "**1) Arranging the dataset to factor the dates as the index:** This will result in the index of the data being set as the dates. "
   ]
  },
  {
   "cell_type": "code",
   "execution_count": null,
   "id": "de2d6e7e",
   "metadata": {},
   "outputs": [],
   "source": [
    "ds = ds.set_index('date')\n",
    "ds.head(5)"
   ]
  },
  {
   "cell_type": "markdown",
   "id": "5dcf95b4",
   "metadata": {},
   "source": [
    "**2) Partitioning the training and testing data:** 30% of the data is being selected as test data, while 70% is being used as training data. This selection is done at random."
   ]
  },
  {
   "cell_type": "code",
   "execution_count": null,
   "id": "c0c2897b",
   "metadata": {},
   "outputs": [],
   "source": [
    "train_data, test_data = train_test_split(ds, test_size=0.3)"
   ]
  },
  {
   "cell_type": "markdown",
   "id": "95a00579",
   "metadata": {},
   "source": [
    "**3) Running Linear Model**: A linear regression on the training data is run using SkLearn LinearRegression()."
   ]
  },
  {
   "cell_type": "code",
   "execution_count": null,
   "id": "fb670d6b",
   "metadata": {},
   "outputs": [],
   "source": [
    "X, y = train_data[predictor_list], train_data[\"target\"]\n",
    "\n",
    "# Defines the model as a Linear Regression\n",
    "model = LinearRegression()\n",
    "\n",
    "# Fits the model using the predictors above and defined target training data\n",
    "model.fit(X,y);"
   ]
  },
  {
   "cell_type": "markdown",
   "id": "f7c6fb79",
   "metadata": {},
   "source": [
    "**4) Making predictions with all of the features and graphing the data vs predicted:** Predictions for the data are made using our training data and graphed against the test data to demonstrate accuracy."
   ]
  },
  {
   "cell_type": "code",
   "execution_count": null,
   "id": "430ed0be",
   "metadata": {},
   "outputs": [],
   "source": [
    "# Creates the predictors using the model.predict\n",
    "preds = model.predict(test_data[predictor_list])\n",
    "\n",
    "combined = np.vstack((test_data['target'], preds))\n",
    "\n",
    "plt.plot(combined.T)\n",
    "plt.grid()\n",
    "plt.legend((\"Target\",\"Predictions\"))\n",
    "plt.title(\"Full Model\");"
   ]
  },
  {
   "cell_type": "markdown",
   "id": "147d3cd9",
   "metadata": {},
   "source": [
    "**5) Calculating the R^2 for the full model:** R^2 for the model is calculated using the function defined in the functions section of the code."
   ]
  },
  {
   "cell_type": "code",
   "execution_count": null,
   "id": "30dda0b1",
   "metadata": {
    "scrolled": true
   },
   "outputs": [],
   "source": [
    "r_2 = r2(preds, test_data)"
   ]
  },
  {
   "cell_type": "markdown",
   "id": "098d9224",
   "metadata": {},
   "source": [
    "**6) Calculating the R^2 for the full model:** R^2 for the model is calculated using the function defined in the functions section of the code."
   ]
  },
  {
   "cell_type": "code",
   "execution_count": null,
   "id": "10a96002",
   "metadata": {},
   "outputs": [],
   "source": [
    "k_fold_test(predictor_list, train_data, LinearRegression(), X, y)"
   ]
  },
  {
   "cell_type": "markdown",
   "id": "d7911a4d",
   "metadata": {},
   "source": [
    "### NOTE: All sections below #6 may take multiple minute to execute. This is because of the size of the dataset and number of predictors that we have used due to the utilization of dummy variables for our identifiers."
   ]
  },
  {
   "cell_type": "markdown",
   "id": "abb8f6df",
   "metadata": {},
   "source": [
    "**7) Backward Selection:** Backward selection is conducted to determine the best predictors for the data which will be used to modify our model."
   ]
  },
  {
   "cell_type": "code",
   "execution_count": null,
   "id": "b5d38c32",
   "metadata": {},
   "outputs": [],
   "source": [
    "new_predictors = seq_selection(X, y, predictor_list, model)"
   ]
  },
  {
   "cell_type": "markdown",
   "id": "5078c2b0",
   "metadata": {},
   "source": [
    "**7) Optimizing feature selection using backward selection:** Using our new predictors from the backward selection, we run a linear regression using our training and testing data to formulate new predictions and a revised R^2 score. The new predictions are then graphed against our previous predictions and the test target data."
   ]
  },
  {
   "cell_type": "code",
   "execution_count": null,
   "id": "c8ab5c26",
   "metadata": {},
   "outputs": [],
   "source": [
    "new_preds = linear_model(train_data, test_data, new_predictors)\n",
    "\n",
    "new_r_2 = r2(new_preds, test_data, iden)"
   ]
  },
  {
   "cell_type": "markdown",
   "id": "3208dd5a",
   "metadata": {},
   "source": [
    "**8) Graphing all of the models vs the test target data:** The new predictions are graphed against our previous predictions and the test target data."
   ]
  },
  {
   "cell_type": "code",
   "execution_count": null,
   "id": "1b9a679f",
   "metadata": {},
   "outputs": [],
   "source": [
    "combined = np.vstack((test_data['target'], new_preds, preds))\n",
    "\n",
    "plt.plot(combined.T)\n",
    "plt.grid()\n",
    "plt.legend((\"Target\",\"Reduced Predictions\",\"Full Predictions\"))\n",
    "plt.title(iden);"
   ]
  }
 ],
 "metadata": {
  "kernelspec": {
   "display_name": "Python 3 (ipykernel)",
   "language": "python",
   "name": "python3"
  },
  "language_info": {
   "codemirror_mode": {
    "name": "ipython",
    "version": 3
   },
   "file_extension": ".py",
   "mimetype": "text/x-python",
   "name": "python",
   "nbconvert_exporter": "python",
   "pygments_lexer": "ipython3",
   "version": "3.9.12"
  }
 },
 "nbformat": 4,
 "nbformat_minor": 5
}
